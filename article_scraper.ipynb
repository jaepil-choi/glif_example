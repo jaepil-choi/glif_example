{
 "cells": [
  {
   "cell_type": "markdown",
   "metadata": {},
   "source": [
    "# 네이버 뉴스 키워드 즐겨찾기.\n",
    "\n",
    "GLIF에선 뉴욕마켓워치 등 꾸준히 보는 뉴스가 있다. \n",
    "\n",
    "이를 매번 네이버 뉴스에서 각각 검색해 보는 것은 번거롭다. \n",
    "\n",
    "이러한 뉴스들은 보통 뉴스 제목에 < 뉴욕마켓워치 > 와 같이 특별히 식별 가능한 텍스트가 들어있는 경우가 많다. \n",
    "\n",
    "따라서 이러한 텍스트를 필요한 만큼 저장해놓고 글리프 홈페이지에서 한꺼번에 모아볼 수 있도록 article_scraper을 만들었다. "
   ]
  },
  {
   "cell_type": "code",
   "execution_count": 26,
   "metadata": {},
   "outputs": [],
   "source": [
    "import pandas as pd\n",
    "from urllib.parse import quote_plus\n",
    "from urllib.request import urlopen\n",
    "from bs4 import BeautifulSoup as bs\n",
    "import re"
   ]
  },
  {
   "cell_type": "code",
   "execution_count": 82,
   "metadata": {},
   "outputs": [
    {
     "name": "stdout",
     "output_type": "stream",
     "text": [
      "네이버에 기사 검색한다고 생각하고 입력해주세요\n"
     ]
    },
    {
     "name": "stdin",
     "output_type": "stream",
     "text": [
      "뉴스 제목에서 식별 가능한 텍스트를 입력해주세요. 입력이 끝나면 빈칸을 입력해주세요. <뉴욕마켓워치>\n",
      "입력한 키워드 <뉴욕마켓워치>의 언론사도 입력해주세요 연합인포맥스\n",
      "뉴스 제목에서 식별 가능한 텍스트를 입력해주세요. 입력이 끝나면 빈칸을 입력해주세요. bdi\n",
      "입력한 키워드 bdi의 언론사도 입력해주세요 아이투자\n",
      "뉴스 제목에서 식별 가능한 텍스트를 입력해주세요. 입력이 끝나면 빈칸을 입력해주세요. \n",
      "입력한 키워드 의 언론사도 입력해주세요 \n"
     ]
    }
   ],
   "source": [
    "## 관심있는 뉴스의 식별 텍스트들\n",
    "\n",
    "id_texts = []\n",
    "while 1:\n",
    "    id_text = input(\"뉴스 제목에서 식별 가능한 텍스트를 입력해주세요. 입력이 끝나면 빈칸을 입력해주세요.\")\n",
    "    \n",
    "    if id_text == \"\":\n",
    "    if id_text == []:\n",
    "        print(\"식별 텍스트를 하나 이상 입력해주세요.\")\n",
    "        continue\n",
    "    else:\n",
    "        break\n",
    "    \n",
    "    id_company = input(\"입력한 키워드 {0}의 언론사도 입력해주세요\".format(id_text))\n",
    "    id_company = id_company.strip()\n",
    "    \n",
    "    id_texts.append((id_text, id_company))"
   ]
  },
  {
   "cell_type": "code",
   "execution_count": 70,
   "metadata": {},
   "outputs": [
    {
     "data": {
      "text/plain": [
       "['%3C%EB%89%B4%EC%9A%95%EB%A7%88%EC%BC%93%EC%9B%8C%EC%B9%98%3E',\n",
       " 'bdi+%EC%95%84%EC%9D%B4%ED%88%AC%EC%9E%90']"
      ]
     },
     "execution_count": 70,
     "metadata": {},
     "output_type": "execute_result"
    }
   ],
   "source": [
    "id_texts_encoded = [quote_plus(x) for x in id_texts]\n",
    "id_texts_encoded"
   ]
  },
  {
   "cell_type": "code",
   "execution_count": 71,
   "metadata": {},
   "outputs": [
    {
     "data": {
      "text/plain": [
       "'%3C%EB%89%B4%EC%9A%95%EB%A7%88%EC%BC%93%EC%9B%8C%EC%B9%98%3E'"
      ]
     },
     "execution_count": 71,
     "metadata": {},
     "output_type": "execute_result"
    }
   ],
   "source": [
    "test_text = \"<뉴욕마켓워치>\"\n",
    "test_text_encoded = quote_plus(test_text) # encode url. \n",
    "test_text_encoded"
   ]
  },
  {
   "cell_type": "code",
   "execution_count": 72,
   "metadata": {},
   "outputs": [],
   "source": [
    "naver_period = 4 # 네이버 뉴스 검색 기간\n",
    "# 1: 1주\n",
    "# 2: 1개월\n",
    "# 3: 전체\n",
    "# 4: 오늘 "
   ]
  },
  {
   "cell_type": "code",
   "execution_count": 81,
   "metadata": {},
   "outputs": [
    {
     "data": {
      "text/plain": [
       "[('<뉴욕마켓워치> 英 브렉시트 합의안 부결…주가↑달러↑유가↑',\n",
       "  'http://news.einfomax.co.kr/news/articleView.html?idxno=4012039')]"
      ]
     },
     "execution_count": 81,
     "metadata": {},
     "output_type": "execute_result"
    }
   ],
   "source": [
    "url = 'https://search.naver.com/search.naver?where=news&query={0}&sm=tab_opt&sort=0&photo=0&field=0&reporter_article=&pd={1}&ds=&de=&docid=&nso=so%3Ar%2Cp%3A1w%2Ca%3Aall&mynews=0&mson=0&refresh_start=0&related=0'.format(test_text_encoded, naver_period)\n",
    "\n",
    "html = urlopen(url)\n",
    "html = bs(html.read(), 'html.parser')\n",
    "\n",
    "news_list = html.find_all('li', {'id':re.compile('sp_nws')})\n",
    "#sp_nws1 > dl > dt > a\n",
    "\n",
    "news_titles = [(x.dl.dt.a.attrs['title'], x.dl.dt.a.attrs['href']) for x in news_list]\n",
    "\n",
    "filtered_news_lists = list(filter(lambda x: test_text in x[0], news_titles))\n",
    "filtered_news_lists"
   ]
  },
  {
   "cell_type": "markdown",
   "metadata": {},
   "source": [
    "# todos:\n",
    "\n",
    "1. 복수의 검색어에 대해 iterate 하여 total_filtered_news_list 뽑아내기. \n",
    "2. url에 대해서 첫 page만 돌지 말고 전체 페이지 돌기. \n",
    "3. naver_period 조절하여 오늘만 말고 여러 기간에 대해 검색 가능하게 바꾸기. \n",
    "    - 추후 1일, 1주, 1개월 식이 아닌 기간을 customizable 하게 하여 default를 today로 두는 것 고려. "
   ]
  },
  {
   "cell_type": "code",
   "execution_count": null,
   "metadata": {},
   "outputs": [],
   "source": []
  }
 ],
 "metadata": {
  "kernelspec": {
   "display_name": "Python 3",
   "language": "python",
   "name": "python3"
  },
  "language_info": {
   "codemirror_mode": {
    "name": "ipython",
    "version": 3
   },
   "file_extension": ".py",
   "mimetype": "text/x-python",
   "name": "python",
   "nbconvert_exporter": "python",
   "pygments_lexer": "ipython3",
   "version": "3.6.5"
  }
 },
 "nbformat": 4,
 "nbformat_minor": 2
}
