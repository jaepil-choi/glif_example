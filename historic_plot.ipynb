{
 "cells": [
  {
   "cell_type": "markdown",
   "metadata": {},
   "source": [
    "# 글리프 마켓의 historical data와 데일리 기사들의 DB 연결 및 시각화. \n",
    "\n",
    "글리프 마켓 데이터는 매일매일의 현황을 알기엔 좋지만 그동안의 추이를 보기엔 힘들었습니다. \n",
    "\n",
    "이를 그래프로 그려 시각화합니다. (수치, 증가율 등)\n",
    "\n",
    "또한 그동안은 마켓과 당일 기사가 따로 정리되었는데, 이 두 DB를 연결합니다. \n",
    "\n",
    "이를 통해 마켓 그래프에서 과거 특이 수치를 보이는 지점에 어떤 기사가 (글리프에서) 정리되었는지 확인할 수 있습니다. "
   ]
  },
  {
   "cell_type": "code",
   "execution_count": 19,
   "metadata": {},
   "outputs": [],
   "source": [
    "import pandas as pd\n",
    "import pandas_datareader.data as web\n",
    "import matplotlib.pyplot as plt\n",
    "import datetime as dt"
   ]
  },
  {
   "cell_type": "code",
   "execution_count": 48,
   "metadata": {},
   "outputs": [],
   "source": [
    "# %matplotlib notebook\n",
    "%matplotlib inline"
   ]
  },
  {
   "cell_type": "code",
   "execution_count": 27,
   "metadata": {},
   "outputs": [],
   "source": [
    "api_key = \"BMQ11-wVhk-Rt78SQoi9\""
   ]
  },
  {
   "cell_type": "code",
   "execution_count": 39,
   "metadata": {},
   "outputs": [
    {
     "data": {
      "text/plain": [
       "Date\n",
       "2018-12-31    157.740005\n",
       "2019-01-02    157.919998\n",
       "2019-01-03    142.190002\n",
       "2019-01-04    148.259995\n",
       "2019-01-07    147.929993\n",
       "2019-01-08    150.750000\n",
       "2019-01-09    153.309998\n",
       "2019-01-10    153.800003\n",
       "2019-01-11    152.289993\n",
       "2019-01-14    150.000000\n",
       "2019-01-15    153.070007\n",
       "Name: Adj Close, dtype: float64"
      ]
     },
     "execution_count": 39,
     "metadata": {},
     "output_type": "execute_result"
    }
   ],
   "source": [
    "## pandas_datareader로 예시 데이터를 다운로드. \n",
    "## API형태로 제공하는 데이터가 다양하기 때문에 추후 마켓 자동화 및 수집 항목 다각화 가능. (FF3 등)\n",
    "\n",
    "start_date = dt.datetime(2019, 1, 1)\n",
    "end_date = dt.datetime(2019, 1, 15)\n",
    "\n",
    "# symbol = 'AAPL.US' # can't pass Quandl API key. \n",
    "\n",
    "df = web.DataReader('AAPL', 'yahoo', start_date, end_date)\n",
    "df = df['Adj Close']\n",
    "df"
   ]
  },
  {
   "cell_type": "code",
   "execution_count": 38,
   "metadata": {},
   "outputs": [
    {
     "data": {
      "text/plain": [
       "(11,)"
      ]
     },
     "execution_count": 38,
     "metadata": {},
     "output_type": "execute_result"
    }
   ],
   "source": [
    "df.shape"
   ]
  },
  {
   "cell_type": "code",
   "execution_count": 44,
   "metadata": {},
   "outputs": [],
   "source": [
    "article_df = pd.DataFrame({'Date':df.index, 'WSJ':\"sample text WSJ\", 'FT':\"sample text FT\", 'BB':\"sample text BB\"})\n",
    "article_df = article_df.set_index('Date')"
   ]
  },
  {
   "cell_type": "code",
   "execution_count": 45,
   "metadata": {},
   "outputs": [
    {
     "data": {
      "text/html": [
       "<div>\n",
       "<style scoped>\n",
       "    .dataframe tbody tr th:only-of-type {\n",
       "        vertical-align: middle;\n",
       "    }\n",
       "\n",
       "    .dataframe tbody tr th {\n",
       "        vertical-align: top;\n",
       "    }\n",
       "\n",
       "    .dataframe thead th {\n",
       "        text-align: right;\n",
       "    }\n",
       "</style>\n",
       "<table border=\"1\" class=\"dataframe\">\n",
       "  <thead>\n",
       "    <tr style=\"text-align: right;\">\n",
       "      <th></th>\n",
       "      <th>WSJ</th>\n",
       "      <th>FT</th>\n",
       "      <th>BB</th>\n",
       "    </tr>\n",
       "    <tr>\n",
       "      <th>Date</th>\n",
       "      <th></th>\n",
       "      <th></th>\n",
       "      <th></th>\n",
       "    </tr>\n",
       "  </thead>\n",
       "  <tbody>\n",
       "    <tr>\n",
       "      <th>2018-12-31</th>\n",
       "      <td>sample text WSJ</td>\n",
       "      <td>sample text FT</td>\n",
       "      <td>sample text BB</td>\n",
       "    </tr>\n",
       "    <tr>\n",
       "      <th>2019-01-02</th>\n",
       "      <td>sample text WSJ</td>\n",
       "      <td>sample text FT</td>\n",
       "      <td>sample text BB</td>\n",
       "    </tr>\n",
       "    <tr>\n",
       "      <th>2019-01-03</th>\n",
       "      <td>sample text WSJ</td>\n",
       "      <td>sample text FT</td>\n",
       "      <td>sample text BB</td>\n",
       "    </tr>\n",
       "    <tr>\n",
       "      <th>2019-01-04</th>\n",
       "      <td>sample text WSJ</td>\n",
       "      <td>sample text FT</td>\n",
       "      <td>sample text BB</td>\n",
       "    </tr>\n",
       "    <tr>\n",
       "      <th>2019-01-07</th>\n",
       "      <td>sample text WSJ</td>\n",
       "      <td>sample text FT</td>\n",
       "      <td>sample text BB</td>\n",
       "    </tr>\n",
       "    <tr>\n",
       "      <th>2019-01-08</th>\n",
       "      <td>sample text WSJ</td>\n",
       "      <td>sample text FT</td>\n",
       "      <td>sample text BB</td>\n",
       "    </tr>\n",
       "    <tr>\n",
       "      <th>2019-01-09</th>\n",
       "      <td>sample text WSJ</td>\n",
       "      <td>sample text FT</td>\n",
       "      <td>sample text BB</td>\n",
       "    </tr>\n",
       "    <tr>\n",
       "      <th>2019-01-10</th>\n",
       "      <td>sample text WSJ</td>\n",
       "      <td>sample text FT</td>\n",
       "      <td>sample text BB</td>\n",
       "    </tr>\n",
       "    <tr>\n",
       "      <th>2019-01-11</th>\n",
       "      <td>sample text WSJ</td>\n",
       "      <td>sample text FT</td>\n",
       "      <td>sample text BB</td>\n",
       "    </tr>\n",
       "    <tr>\n",
       "      <th>2019-01-14</th>\n",
       "      <td>sample text WSJ</td>\n",
       "      <td>sample text FT</td>\n",
       "      <td>sample text BB</td>\n",
       "    </tr>\n",
       "    <tr>\n",
       "      <th>2019-01-15</th>\n",
       "      <td>sample text WSJ</td>\n",
       "      <td>sample text FT</td>\n",
       "      <td>sample text BB</td>\n",
       "    </tr>\n",
       "  </tbody>\n",
       "</table>\n",
       "</div>"
      ],
      "text/plain": [
       "                        WSJ              FT              BB\n",
       "Date                                                       \n",
       "2018-12-31  sample text WSJ  sample text FT  sample text BB\n",
       "2019-01-02  sample text WSJ  sample text FT  sample text BB\n",
       "2019-01-03  sample text WSJ  sample text FT  sample text BB\n",
       "2019-01-04  sample text WSJ  sample text FT  sample text BB\n",
       "2019-01-07  sample text WSJ  sample text FT  sample text BB\n",
       "2019-01-08  sample text WSJ  sample text FT  sample text BB\n",
       "2019-01-09  sample text WSJ  sample text FT  sample text BB\n",
       "2019-01-10  sample text WSJ  sample text FT  sample text BB\n",
       "2019-01-11  sample text WSJ  sample text FT  sample text BB\n",
       "2019-01-14  sample text WSJ  sample text FT  sample text BB\n",
       "2019-01-15  sample text WSJ  sample text FT  sample text BB"
      ]
     },
     "execution_count": 45,
     "metadata": {},
     "output_type": "execute_result"
    }
   ],
   "source": [
    "article_df"
   ]
  },
  {
   "cell_type": "code",
   "execution_count": 54,
   "metadata": {},
   "outputs": [
    {
     "data": {
      "text/plain": [
       "<matplotlib.axes._subplots.AxesSubplot at 0x2a1ec121940>"
      ]
     },
     "execution_count": 54,
     "metadata": {},
     "output_type": "execute_result"
    },
    {
     "data": {
      "image/png": "[encoded data removed]",
      "text/plain": [
       "<Figure size 432x288 with 1 Axes>"
      ]
     },
     "metadata": {
      "needs_background": "light"
     },
     "output_type": "display_data"
    }
   ],
   "source": [
    "fig = plt.figure()\n",
    "plot = fig.add_subplot(df.plot())\n",
    "plot"
   ]
  },
  {
   "cell_type": "code",
   "execution_count": 56,
   "metadata": {},
   "outputs": [],
   "source": [
    "def on_plot_hover(event):\n",
    "    for curve in plot.get_lines():\n",
    "        if curve.contains(event)[0]:\n",
    "#             print \"over %s\" % curve.get_gid()\n",
    "            print(\"hello world\")"
   ]
  },
  {
   "cell_type": "code",
   "execution_count": 62,
   "metadata": {},
   "outputs": [],
   "source": [
    "fig.canvas.mpl_connect('motion_notify_event', on_plot_hover)\n",
    "plt.show();"
   ]
  },
  {
   "cell_type": "code",
   "execution_count": null,
   "metadata": {},
   "outputs": [],
   "source": []
  }
 ],
 "metadata": {
  "kernelspec": {
   "display_name": "Python 3",
   "language": "python",
   "name": "python3"
  },
  "language_info": {
   "codemirror_mode": {
    "name": "ipython",
    "version": 3
   },
   "file_extension": ".py",
   "mimetype": "text/x-python",
   "name": "python",
   "nbconvert_exporter": "python",
   "pygments_lexer": "ipython3",
   "version": "3.6.5"
  }
 },
 "nbformat": 4,
 "nbformat_minor": 2
}
